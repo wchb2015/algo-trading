{
 "cells": [
  {
   "cell_type": "code",
   "execution_count": 1,
   "id": "8b59dd4c",
   "metadata": {},
   "outputs": [],
   "source": [
    "import time\n",
    "from datetime import datetime\n",
    "\n",
    "from alpaca.data.historical import StockHistoricalDataClient\n",
    "from alpaca.data.requests import StockBarsRequest\n",
    "from alpaca.data.timeframe import TimeFrame\n",
    "from alpaca.trading.client import TradingClient\n",
    "from alpaca.trading.enums import AssetClass, OrderSide, TimeInForce\n",
    "from alpaca.trading.requests import GetAssetsRequest, MarketOrderRequest"
   ]
  },
  {
   "cell_type": "code",
   "execution_count": 2,
   "id": "26a59151",
   "metadata": {},
   "outputs": [],
   "source": [
    "API_KEY = \"PKJCOVJ8NBAT2HVHKCSC\"\n",
    "API_SECRET = \"dm3BAs0Xh0qdctMB6BPMZyqHPIphB7gdVUoUqNyN\""
   ]
  },
  {
   "cell_type": "code",
   "execution_count": 3,
   "id": "a83abe71",
   "metadata": {},
   "outputs": [],
   "source": [
    "trading_client = TradingClient(API_KEY, API_SECRET, paper=True)\n",
    "data_client = StockHistoricalDataClient(API_KEY, API_SECRET)"
   ]
  },
  {
   "cell_type": "code",
   "execution_count": 4,
   "id": "d5ec025e",
   "metadata": {},
   "outputs": [],
   "source": [
    "request_params = StockBarsRequest(\n",
    "    symbol_or_symbols=[\"AAPL\"],\n",
    "    timeframe=TimeFrame.Day,\n",
    "    start=datetime(2025, 8, 1),\n",
    "    end=datetime(2025, 8, 31)\n",
    ")"
   ]
  },
  {
   "cell_type": "code",
   "execution_count": 5,
   "id": "452d9977",
   "metadata": {},
   "outputs": [],
   "source": [
    "df = data_client.get_stock_bars(request_params)"
   ]
  },
  {
   "cell_type": "code",
   "execution_count": 6,
   "id": "3a9b57f0",
   "metadata": {},
   "outputs": [
    {
     "data": {
      "text/plain": [
       "alpaca.data.models.bars.BarSet"
      ]
     },
     "execution_count": 6,
     "metadata": {},
     "output_type": "execute_result"
    }
   ],
   "source": [
    "type(df)  # alpaca.data.models.bars.StockBars"
   ]
  },
  {
   "cell_type": "code",
   "execution_count": null,
   "id": "6c1b7908",
   "metadata": {},
   "outputs": [],
   "source": []
  }
 ],
 "metadata": {
  "kernelspec": {
   "display_name": "PySpark(Initialbid)",
   "language": "python",
   "name": "pyspark"
  },
  "language_info": {
   "codemirror_mode": {
    "name": "ipython",
    "version": 3
   },
   "file_extension": ".py",
   "mimetype": "text/x-python",
   "name": "python",
   "nbconvert_exporter": "python",
   "pygments_lexer": "ipython3",
   "version": "3.9.6"
  }
 },
 "nbformat": 4,
 "nbformat_minor": 5
}
