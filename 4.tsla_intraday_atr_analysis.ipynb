{
 "cells": [
  {
   "cell_type": "markdown",
   "metadata": {},
   "source": [
    "# TSLA Intraday ATR Analysis\n",
    "\n",
    "This notebook calculates the 20-day moving median of the Average True Range (ATR) for TSLA using intraday minute-level data.\n",
    "\n",
    "## Methodology\n",
    "- **Intraday ATR**: For each trading day, we calculate the range as daily high - daily low\n",
    "- **20-Day Moving Median**: We then apply a 20-day rolling median to smooth the daily ATR values\n",
    "- **Data Source**: TSLA minute-level data for August 2025"
   ]
  },
  {
   "cell_type": "code",
   "execution_count": null,
   "metadata": {},
   "outputs": [],
   "source": [
    "# Import required libraries\n",
    "import pandas as pd\n",
    "import numpy as np\n",
    "import matplotlib.pyplot as plt\n",
    "from datetime import datetime\n",
    "import warnings\n",
    "warnings.filterwarnings('ignore')\n",
    "\n",
    "# Set display options for better readability\n",
    "pd.set_option('display.max_columns', None)\n",
    "pd.set_option('display.width', None)\n",
    "pd.set_option('display.max_rows', 50)\n",
    "\n",
    "print(\"Libraries imported successfully!\")"
   ]
  },
  {
   "cell_type": "markdown",
   "metadata": {},
   "source": [
    "## 1. Load and Prepare Data"
   ]
  },
  {
   "cell_type": "code",
   "execution_count": null,
   "metadata": {},
   "outputs": [],
   "source": [
    "# Load the TSLA minute data\n",
    "df = pd.read_csv('tsla_minute_data_august_2025.csv')\n",
    "\n",
    "# Convert time column to datetime\n",
    "df['time'] = pd.to_datetime(df['time'])\n",
    "\n",
    "# Extract date for grouping\n",
    "df['date'] = df['time'].dt.date\n",
    "\n",
    "print(f\"Data loaded successfully!\")\n",
    "print(f\"Total records: {len(df):,}\")\n",
    "print(f\"Date range: {df['time'].min()} to {df['time'].max()}\")\n",
    "print(f\"\\nFirst few rows:\")\n",
    "df.head()"
   ]
  },
  {
   "cell_type": "markdown",
   "metadata": {},
   "source": [
    "## 2. Calculate Daily High, Low, Open and Close Prices"
   ]
  },
  {
   "cell_type": "code",
   "execution_count": null,
   "metadata": {},
   "outputs": [],
   "source": [
    "# Group by date and get the daily OHLC values\n",
    "daily_prices = df.groupby('date').agg({\n",
    "    'open': 'first',   # First minute's open price of the day\n",
    "    'close': 'last',   # Last minute's close price of the day\n",
    "    'high': 'max',     # Highest price of the day\n",
    "    'low': 'min',      # Lowest price of the day\n",
    "    'time': ['first', 'last']  # First and last timestamps\n",
    "}).reset_index()\n",
    "\n",
    "# Flatten column names\n",
    "daily_prices.columns = ['date', 'daily_open', 'daily_close', 'daily_high', 'daily_low', 'first_time', 'last_time']\n",
    "\n",
    "print(f\"Daily prices calculated for {len(daily_prices)} trading days\")\n",
    "print(\"\\nDaily price summary:\")\n",
    "daily_prices[['date', 'daily_open', 'daily_close', 'daily_high', 'daily_low']].head(10)"
   ]
  },
  {
   "cell_type": "markdown",
   "metadata": {},
   "source": [
    "## 3. Calculate Daily ATR (High - Low)"
   ]
  },
  {
   "cell_type": "code",
   "execution_count": null,
   "metadata": {},
   "outputs": [],
   "source": [
    "# Calculate the intraday ATR (high - low)\n",
    "daily_prices['intraday_atr'] = daily_prices['daily_high'] - daily_prices['daily_low']\n",
    "\n",
    "# Also calculate the open-close range for comparison\n",
    "daily_prices['open_close_range'] = abs(daily_prices['daily_close'] - daily_prices['daily_open'])\n",
    "\n",
    "# Calculate percentage move\n",
    "daily_prices['pct_change'] = ((daily_prices['daily_close'] - daily_prices['daily_open']) / daily_prices['daily_open']) * 100\n",
    "\n",
    "# Calculate ATR as percentage of closing price\n",
    "daily_prices['atr_pct'] = (daily_prices['intraday_atr'] / daily_prices['daily_close']) * 100\n",
    "\n",
    "print(\"Daily ATR Statistics (High - Low):\")\n",
    "print(f\"Mean Intraday ATR: ${daily_prices['intraday_atr'].mean():.2f}\")\n",
    "print(f\"Max Intraday ATR: ${daily_prices['intraday_atr'].max():.2f}\")\n",
    "print(f\"Min Intraday ATR: ${daily_prices['intraday_atr'].min():.2f}\")\n",
    "print(f\"Std Dev: ${daily_prices['intraday_atr'].std():.2f}\")\n",
    "\n",
    "print(\"\\nDaily ATR values:\")\n",
    "daily_prices[['date', 'daily_high', 'daily_low', 'intraday_atr', 'atr_pct']].round(2)"
   ]
  },
  {
   "cell_type": "markdown",
   "metadata": {},
   "source": [
    "## 4. Calculate 20-Day Moving Median of ATR"
   ]
  },
  {
   "cell_type": "code",
   "execution_count": null,
   "metadata": {},
   "outputs": [],
   "source": [
    "# Calculate the 20-day moving median of the intraday ATR\n",
    "daily_prices['atr_median20'] = daily_prices['intraday_atr'].rolling(window=20, min_periods=1).median()\n",
    "\n",
    "# Also calculate other moving medians for context\n",
    "daily_prices['atr_median5'] = daily_prices['intraday_atr'].rolling(window=5, min_periods=1).median()\n",
    "daily_prices['atr_median10'] = daily_prices['intraday_atr'].rolling(window=10, min_periods=1).median()\n",
    "\n",
    "# For comparison, also calculate moving average\n",
    "daily_prices['atr_ma20'] = daily_prices['intraday_atr'].rolling(window=20, min_periods=1).mean()\n",
    "\n",
    "print(\"20-Day Moving Median ATR calculated!\")\n",
    "print(f\"\\nFinal 20-Day Median ATR: ${daily_prices['atr_median20'].iloc[-1]:.2f}\")\n",
    "print(f\"Average 20-Day Median ATR: ${daily_prices['atr_median20'].mean():.2f}\")\n",
    "print(f\"\\nComparison with Moving Average:\")\n",
    "print(f\"Final 20-Day MA ATR: ${daily_prices['atr_ma20'].iloc[-1]:.2f}\")\n",
    "\n",
    "# Display the last few rows with all calculations\n",
    "print(\"\\nLast 10 days with moving medians:\")\n",
    "daily_prices[['date', 'intraday_atr', 'atr_median5', 'atr_median10', 'atr_median20']].tail(10).round(2)"
   ]
  },
  {
   "cell_type": "markdown",
   "metadata": {},
   "source": [
    "## 5. Visualization with Matplotlib"
   ]
  },
  {
   "cell_type": "code",
   "execution_count": null,
   "metadata": {},
   "outputs": [],
   "source": [
    "# Create the main plot\n",
    "fig, (ax1, ax2, ax3) = plt.subplots(3, 1, figsize=(14, 12))\n",
    "\n",
    "# Plot 1: Daily ATR with 20-day moving median\n",
    "ax1.plot(daily_prices['date'], daily_prices['intraday_atr'], \n",
    "         label='Daily ATR (High-Low)', color='steelblue', linewidth=1, alpha=0.7)\n",
    "ax1.plot(daily_prices['date'], daily_prices['atr_median20'], \n",
    "         label='20-Day Median', color='red', linewidth=2)\n",
    "ax1.plot(daily_prices['date'], daily_prices['atr_ma20'], \n",
    "         label='20-Day Mean', color='orange', linewidth=1, linestyle='--', alpha=0.7)\n",
    "ax1.fill_between(daily_prices['date'], 0, daily_prices['intraday_atr'], \n",
    "                  alpha=0.3, color='steelblue')\n",
    "\n",
    "ax1.set_title('TSLA Intraday ATR (High-Low) with 20-Day Moving Median', fontsize=14, fontweight='bold')\n",
    "ax1.set_xlabel('Date', fontsize=12)\n",
    "ax1.set_ylabel('ATR ($)', fontsize=12)\n",
    "ax1.legend(loc='upper right')\n",
    "ax1.grid(True, alpha=0.3)\n",
    "ax1.tick_params(axis='x', rotation=45)\n",
    "\n",
    "# Add horizontal line for median ATR\n",
    "median_atr = daily_prices['intraday_atr'].median()\n",
    "ax1.axhline(y=median_atr, color='green', linestyle='--', alpha=0.5, \n",
    "            label=f'Median ATR: ${median_atr:.2f}')\n",
    "\n",
    "# Plot 2: Multiple moving medians comparison\n",
    "ax2.plot(daily_prices['date'], daily_prices['intraday_atr'], \n",
    "         label='Daily ATR', color='gray', linewidth=0.5, alpha=0.5)\n",
    "ax2.plot(daily_prices['date'], daily_prices['atr_median5'], \n",
    "         label='5-Day Median', color='orange', linewidth=1.5)\n",
    "ax2.plot(daily_prices['date'], daily_prices['atr_median10'], \n",
    "         label='10-Day Median', color='blue', linewidth=1.5)\n",
    "ax2.plot(daily_prices['date'], daily_prices['atr_median20'], \n",
    "         label='20-Day Median', color='red', linewidth=2)\n",
    "\n",
    "ax2.set_title('ATR Moving Medians Comparison', fontsize=14, fontweight='bold')\n",
    "ax2.set_xlabel('Date', fontsize=12)\n",
    "ax2.set_ylabel('ATR ($)', fontsize=12)\n",
    "ax2.legend(loc='upper right')\n",
    "ax2.grid(True, alpha=0.3)\n",
    "ax2.tick_params(axis='x', rotation=45)\n",
    "\n",
    "# Plot 3: ATR as percentage of price\n",
    "ax3.bar(daily_prices['date'], daily_prices['atr_pct'], color='purple', alpha=0.6)\n",
    "ax3.axhline(y=daily_prices['atr_pct'].mean(), color='red', linestyle='--', \n",
    "            label=f\"Mean: {daily_prices['atr_pct'].mean():.2f}%\")\n",
    "\n",
    "ax3.set_title('Daily ATR as Percentage of Closing Price', fontsize=14, fontweight='bold')\n",
    "ax3.set_xlabel('Date', fontsize=12)\n",
    "ax3.set_ylabel('ATR %', fontsize=12)\n",
    "ax3.legend()\n",
    "ax3.grid(True, alpha=0.3)\n",
    "ax3.tick_params(axis='x', rotation=45)\n",
    "\n",
    "plt.tight_layout()\n",
    "plt.show()\n",
    "\n",
    "print(\"Visualization complete!\")"
   ]
  },
  {
   "cell_type": "markdown",
   "metadata": {},
   "source": [
    "## 6. Statistical Analysis"
   ]
  },
  {
   "cell_type": "code",
   "execution_count": null,
   "metadata": {},
   "outputs": [],
   "source": [
    "# Create a summary statistics table\n",
    "summary_stats = pd.DataFrame({\n",
    "    'Metric': ['Mean', 'Median', 'Std Dev', 'Min', 'Max', '25th Percentile', '75th Percentile'],\n",
    "    'Daily ATR (High-Low)': [\n",
    "        daily_prices['intraday_atr'].mean(),\n",
    "        daily_prices['intraday_atr'].median(),\n",
    "        daily_prices['intraday_atr'].std(),\n",
    "        daily_prices['intraday_atr'].min(),\n",
    "        daily_prices['intraday_atr'].max(),\n",
    "        daily_prices['intraday_atr'].quantile(0.25),\n",
    "        daily_prices['intraday_atr'].quantile(0.75)\n",
    "    ],\n",
    "    '20-Day Median ATR': [\n",
    "        daily_prices['atr_median20'].mean(),\n",
    "        daily_prices['atr_median20'].median(),\n",
    "        daily_prices['atr_median20'].std(),\n",
    "        daily_prices['atr_median20'].min(),\n",
    "        daily_prices['atr_median20'].max(),\n",
    "        daily_prices['atr_median20'].quantile(0.25),\n",
    "        daily_prices['atr_median20'].quantile(0.75)\n",
    "    ]\n",
    "})\n",
    "\n",
    "summary_stats = summary_stats.round(2)\n",
    "print(\"Summary Statistics for TSLA Intraday ATR:\")\n",
    "print(summary_stats.to_string(index=False))\n",
    "\n",
    "# Calculate volatility metrics\n",
    "print(\"\\n\" + \"=\"*50)\n",
    "print(\"Volatility Analysis:\")\n",
    "print(f\"ATR as % of average price: {(daily_prices['intraday_atr'].mean() / daily_prices['daily_close'].mean()) * 100:.2f}%\")\n",
    "print(f\"Coefficient of Variation (ATR): {(daily_prices['intraday_atr'].std() / daily_prices['intraday_atr'].mean()):.2f}\")\n",
    "print(f\"Days with ATR > $15: {len(daily_prices[daily_prices['intraday_atr'] > 15])} ({len(daily_prices[daily_prices['intraday_atr'] > 15])/len(daily_prices)*100:.1f}%)\")\n",
    "print(f\"Days with ATR > $20: {len(daily_prices[daily_prices['intraday_atr'] > 20])} ({len(daily_prices[daily_prices['intraday_atr'] > 20])/len(daily_prices)*100:.1f}%)\")\n",
    "\n",
    "# Compare ATR with open-close range\n",
    "print(\"\\n\" + \"=\"*50)\n",
    "print(\"ATR vs Open-Close Range Comparison:\")\n",
    "print(f\"Mean ATR (High-Low): ${daily_prices['intraday_atr'].mean():.2f}\")\n",
    "print(f\"Mean Open-Close Range: ${daily_prices['open_close_range'].mean():.2f}\")\n",
    "print(f\"Ratio (ATR/Open-Close): {daily_prices['intraday_atr'].mean() / daily_prices['open_close_range'].mean():.2f}x\")"
   ]
  },
  {
   "cell_type": "markdown",
   "metadata": {},
   "source": [
    "## 7. Export Results"
   ]
  },
  {
   "cell_type": "code",
   "execution_count": null,
   "metadata": {},
   "outputs": [],
   "source": [
    "# Save the calculated ATR data to a CSV file\n",
    "output_df = daily_prices[['date', 'daily_high', 'daily_low', 'intraday_atr', 'atr_median5', 'atr_median10', 'atr_median20', 'atr_pct']]\n",
    "output_df.to_csv('tsla_atr_analysis_results.csv', index=False)\n",
    "\n",
    "print(\"Results saved to 'tsla_atr_analysis_results.csv'\")\n",
    "print(\"\\nFinal Results Preview:\")\n",
    "output_df.tail(10).round(2)"
   ]
  },
  {
   "cell_type": "markdown",
   "metadata": {},
   "source": [
    "## Conclusions\n",
    "\n",
    "### Key Findings:\n",
    "1. **Average Intraday ATR**: The average daily range (high - low) shows the true volatility\n",
    "2. **20-Day Moving Median**: Provides a robust smoothed view of volatility trends (less affected by outliers than mean)\n",
    "3. **Volatility Patterns**: The data shows how TSLA's intraday volatility changes over time\n",
    "\n",
    "### Interpretation:\n",
    "- ATR (High-Low) represents the true trading range for each day\n",
    "- The 20-day moving median is more stable than the mean, less influenced by extreme values\n",
    "- This metric can be useful for:\n",
    "  - Risk management and position sizing\n",
    "  - Setting stop-loss levels based on actual price ranges\n",
    "  - Identifying volatility expansion/contraction periods\n",
    "  - Options trading strategies"
   ]
  }
 ],
 "metadata": {
  "kernelspec": {
   "display_name": "Python 3",
   "language": "python",
   "name": "python3"
  },
  "language_info": {
   "codemirror_mode": {
    "name": "ipython",
    "version": 3
   },
   "file_extension": ".py",
   "mimetype": "text/x-python",
   "name": "python",
   "nbconvert_exporter": "python",
   "pygments_lexer": "ipython3",
   "version": "3.9.0"
  }
 },
 "nbformat": 4,
 "nbformat_minor": 4
}
